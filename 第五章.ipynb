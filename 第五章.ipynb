{
 "cells": [
  {
   "cell_type": "raw",
   "id": "cd9c7b8f",
   "metadata": {},
   "source": [
    "第五章 if语句"
   ]
  },
  {
   "cell_type": "code",
   "execution_count": 2,
   "id": "fcd2690b",
   "metadata": {},
   "outputs": [
    {
     "name": "stdout",
     "output_type": "stream",
     "text": [
      "Audi\n",
      "BMW\n",
      "Subaru\n",
      "Toyota\n"
     ]
    }
   ],
   "source": [
    "cars = ['audi','bmw','subaru','toyota']\n",
    "for car in cars:\n",
    "    if car == 'bmw':\n",
    "        print(car.upper())\n",
    "    else:\n",
    "        print(car.title())"
   ]
  },
  {
   "cell_type": "raw",
   "id": "9d524ff9",
   "metadata": {},
   "source": [
    "5.2 条件测试"
   ]
  },
  {
   "cell_type": "code",
   "execution_count": 3,
   "id": "529522ea",
   "metadata": {},
   "outputs": [
    {
     "data": {
      "text/plain": [
       "True"
      ]
     },
     "execution_count": 3,
     "metadata": {},
     "output_type": "execute_result"
    }
   ],
   "source": [
    "car = 'bmw'\n",
    "car =='bmw'"
   ]
  },
  {
   "cell_type": "code",
   "execution_count": 4,
   "id": "dc8e1e9f",
   "metadata": {},
   "outputs": [
    {
     "data": {
      "text/plain": [
       "False"
      ]
     },
     "execution_count": 4,
     "metadata": {},
     "output_type": "execute_result"
    }
   ],
   "source": [
    "car = 'audi'\n",
    "car =='bmw'"
   ]
  },
  {
   "cell_type": "code",
   "execution_count": 7,
   "id": "d7c5f2de",
   "metadata": {},
   "outputs": [
    {
     "data": {
      "text/plain": [
       "True"
      ]
     },
     "execution_count": 7,
     "metadata": {},
     "output_type": "execute_result"
    }
   ],
   "source": [
    "car = 'Audi'\n",
    "car.lower() =='audi'"
   ]
  },
  {
   "cell_type": "code",
   "execution_count": 8,
   "id": "8e40b8c8",
   "metadata": {},
   "outputs": [
    {
     "name": "stdout",
     "output_type": "stream",
     "text": [
      "Hello the anchovies!\n"
     ]
    }
   ],
   "source": [
    "requested_topping = 'mushrooms'\n",
    "\n",
    "if requested_topping != 'anchovies':\n",
    "    print(\"Hello the anchovies!\")"
   ]
  },
  {
   "cell_type": "code",
   "execution_count": 9,
   "id": "0b346351",
   "metadata": {},
   "outputs": [
    {
     "data": {
      "text/plain": [
       "True"
      ]
     },
     "execution_count": 9,
     "metadata": {},
     "output_type": "execute_result"
    }
   ],
   "source": [
    "age = 18\n",
    "age == 18"
   ]
  },
  {
   "cell_type": "code",
   "execution_count": 10,
   "id": "b5b56a63",
   "metadata": {},
   "outputs": [
    {
     "name": "stdout",
     "output_type": "stream",
     "text": [
      "not correct\n"
     ]
    }
   ],
   "source": [
    "answer = 17\n",
    "\n",
    "if answer != 42:\n",
    "    print(\"not correct\")"
   ]
  },
  {
   "cell_type": "code",
   "execution_count": 13,
   "id": "f8c27b37",
   "metadata": {},
   "outputs": [
    {
     "data": {
      "text/plain": [
       "False"
      ]
     },
     "execution_count": 13,
     "metadata": {},
     "output_type": "execute_result"
    }
   ],
   "source": [
    "age = 19\n",
    "age <= 21\n",
    "age> 21\n",
    "age >= 21"
   ]
  },
  {
   "cell_type": "code",
   "execution_count": 14,
   "id": "1291a81b",
   "metadata": {},
   "outputs": [
    {
     "data": {
      "text/plain": [
       "False"
      ]
     },
     "execution_count": 14,
     "metadata": {},
     "output_type": "execute_result"
    }
   ],
   "source": [
    "age_0 = 23\n",
    "age_1 = 18\n",
    "age_0 >= 21 and age_1 >=21\n"
   ]
  },
  {
   "cell_type": "code",
   "execution_count": 15,
   "id": "aeb54ccc",
   "metadata": {},
   "outputs": [
    {
     "data": {
      "text/plain": [
       "True"
      ]
     },
     "execution_count": 15,
     "metadata": {},
     "output_type": "execute_result"
    }
   ],
   "source": [
    "age_0 = 23\n",
    "age_1 = 22\n",
    "age_0 >= 21 and age_1 >=21"
   ]
  },
  {
   "cell_type": "code",
   "execution_count": 16,
   "id": "e6a8c6bc",
   "metadata": {},
   "outputs": [
    {
     "data": {
      "text/plain": [
       "True"
      ]
     },
     "execution_count": 16,
     "metadata": {},
     "output_type": "execute_result"
    }
   ],
   "source": [
    "(age_0 >= 21) and (age_1 >=21)"
   ]
  },
  {
   "cell_type": "code",
   "execution_count": 17,
   "id": "3aeef94b",
   "metadata": {},
   "outputs": [
    {
     "data": {
      "text/plain": [
       "True"
      ]
     },
     "execution_count": 17,
     "metadata": {},
     "output_type": "execute_result"
    }
   ],
   "source": [
    "age_0 = 23\n",
    "age_1 = 22\n",
    "age_0 >= 21 or age_1 >=21"
   ]
  },
  {
   "cell_type": "code",
   "execution_count": 19,
   "id": "a0773ac9",
   "metadata": {},
   "outputs": [
    {
     "data": {
      "text/plain": [
       "True"
      ]
     },
     "execution_count": 19,
     "metadata": {},
     "output_type": "execute_result"
    }
   ],
   "source": [
    "age_0 = 23\n",
    "age_1 = 18\n",
    "age_0 >= 21 or age_1 >=21"
   ]
  },
  {
   "cell_type": "code",
   "execution_count": 24,
   "id": "0b472914",
   "metadata": {},
   "outputs": [
    {
     "name": "stdout",
     "output_type": "stream",
     "text": [
      "Marie,you can post a response if you wish !\n"
     ]
    }
   ],
   "source": [
    "banned_users = ['andrew','carolina','david']\n",
    "user = 'marie'\n",
    "if user not in banned_users:\n",
    "    print(user.title() + \",you can post a response if you wish !\")"
   ]
  },
  {
   "cell_type": "code",
   "execution_count": 25,
   "id": "9818b051",
   "metadata": {},
   "outputs": [],
   "source": [
    "game_active = True\n",
    "can_edit = False"
   ]
  },
  {
   "cell_type": "code",
   "execution_count": 26,
   "id": "4039c856",
   "metadata": {},
   "outputs": [
    {
     "name": "stdout",
     "output_type": "stream",
     "text": [
      "True\n",
      "False\n",
      "True\n",
      "False\n",
      "True\n",
      "False\n",
      "True\n",
      "False\n",
      "True\n",
      "False\n"
     ]
    }
   ],
   "source": [
    "\n",
    "car = 'bmw'\n",
    "cars = ['bmw','audi']\n",
    "#T\n",
    "print(car == 'bmw')\n",
    "#F\n",
    "print(car != 'bmw')\n",
    "#T\n",
    "print(car == car)\n",
    "#F\n",
    "print(car == car.title())\n",
    "#T\n",
    "print(car == 'bmw' or  car == 'audi')\n",
    "#F\n",
    "print(car == 'bmw' and car == 'audi')\n",
    "#T\n",
    "print(int(len(car)) == int(len('bmw')))\n",
    "#F\n",
    "print(int(len(car)) == int(len('audi')))\n",
    "#T\n",
    "print('bmw' in cars)\n",
    "#F\n",
    "print('audi' not in cars)\n"
   ]
  },
  {
   "cell_type": "code",
   "execution_count": 27,
   "id": "83df0542",
   "metadata": {},
   "outputs": [
    {
     "name": "stdout",
     "output_type": "stream",
     "text": [
      "检查两个字符串相等和不等。\n",
      "True\n",
      "False\n",
      "使用函数lower() 的测试。\n",
      "True\n",
      "False\n",
      "检查两个数字相等、 不等、 大于、 小于、 大于等于和小于等于。\n",
      "True\n",
      "False\n",
      "False\n",
      "False\n",
      "True\n",
      "True\n",
      "使用关键字and 和or 的测试\n",
      "False\n",
      "True\n",
      "测试特定的值是否包含在列表中。\n",
      "True\n",
      "测试特定的值是否未包含在列表中。\n",
      "False\n"
     ]
    }
   ],
   "source": [
    "print('检查两个字符串相等和不等。')\n",
    "print('test' == 'test')\n",
    "print('test' == 'test'.title())\n",
    "print('使用函数lower() 的测试。')\n",
    "print('test' == 'TEST'.lower())\n",
    "print('test'.lower() == 'TEST')\n",
    "print('检查两个数字相等、 不等、 大于、 小于、 大于等于和小于等于。')\n",
    "print(1 == 1)\n",
    "print(1 != 1)\n",
    "print(1 > 1)\n",
    "print(1 < 1)\n",
    "print(1 >= 1)\n",
    "print(1 <= 1)\n",
    "print('使用关键字and 和or 的测试')\n",
    "print('test' == 'test' and 'test' == 'Test')\n",
    "print('test' == 'test' or 'test' == 'Test')\n",
    "print('测试特定的值是否包含在列表中。')\n",
    "cars = ['bmw','audi']\n",
    "print('bmw' in cars)\n",
    "print('测试特定的值是否未包含在列表中。')\n",
    "cars = ['bmw','audi']\n",
    "print('audi' not in cars)\n"
   ]
  },
  {
   "cell_type": "raw",
   "id": "111a1194",
   "metadata": {},
   "source": [
    "5.3 if语句"
   ]
  },
  {
   "cell_type": "code",
   "execution_count": 28,
   "id": "c2f1f570",
   "metadata": {},
   "outputs": [
    {
     "ename": "SyntaxError",
     "evalue": "invalid syntax (45895791.py, line 2)",
     "output_type": "error",
     "traceback": [
      "\u001b[1;36m  Input \u001b[1;32mIn [28]\u001b[1;36m\u001b[0m\n\u001b[1;33m    do something\u001b[0m\n\u001b[1;37m       ^\u001b[0m\n\u001b[1;31mSyntaxError\u001b[0m\u001b[1;31m:\u001b[0m invalid syntax\n"
     ]
    }
   ],
   "source": [
    "if conditional_test:\n",
    "    do something"
   ]
  },
  {
   "cell_type": "code",
   "execution_count": 29,
   "id": "ba3c4291",
   "metadata": {},
   "outputs": [
    {
     "name": "stdout",
     "output_type": "stream",
     "text": [
      "you are old enough to vote!\n"
     ]
    }
   ],
   "source": [
    "age = 19\n",
    "if age >= 18:\n",
    "    print(\"you are old enough to vote!\")"
   ]
  },
  {
   "cell_type": "code",
   "execution_count": 30,
   "id": "e9533729",
   "metadata": {},
   "outputs": [
    {
     "name": "stdout",
     "output_type": "stream",
     "text": [
      "you are old enough to vote!\n",
      "have you\n"
     ]
    }
   ],
   "source": [
    "age = 19\n",
    "if age >= 18:\n",
    "    print(\"you are old enough to vote!\")\n",
    "    print(\"have you\")"
   ]
  },
  {
   "cell_type": "code",
   "execution_count": 31,
   "id": "412003fb",
   "metadata": {},
   "outputs": [
    {
     "name": "stdout",
     "output_type": "stream",
     "text": [
      "you are old enough to vote!\n",
      "have you\n"
     ]
    }
   ],
   "source": [
    "age = 19\n",
    "if age >= 18:\n",
    "    print(\"you are old enough to vote!\")\n",
    "    print(\"have you\")"
   ]
  },
  {
   "cell_type": "code",
   "execution_count": null,
   "id": "9ef07ef6",
   "metadata": {},
   "outputs": [],
   "source": [
    "age = 19\n",
    "if age >= 18:\n",
    "    print(\"you are old enough to vote!\")\n",
    "    print(\"have you\")"
   ]
  },
  {
   "cell_type": "raw",
   "id": "288d6b06",
   "metadata": {},
   "source": [
    "if-elif-else结构"
   ]
  },
  {
   "cell_type": "code",
   "execution_count": 32,
   "id": "c3875f89",
   "metadata": {},
   "outputs": [
    {
     "name": "stdout",
     "output_type": "stream",
     "text": [
      "5\n"
     ]
    }
   ],
   "source": [
    "age = 12\n",
    "if age < 4:\n",
    "    print(\"0\")\n",
    "elif age <18:\n",
    "    print(\"5\")\n",
    "else:\n",
    "    pritn(\"10\")"
   ]
  },
  {
   "cell_type": "code",
   "execution_count": 33,
   "id": "1af08e91",
   "metadata": {},
   "outputs": [
    {
     "name": "stdout",
     "output_type": "stream",
     "text": [
      "<class 'int'>\n"
     ]
    }
   ],
   "source": [
    "print(type(666))"
   ]
  },
  {
   "cell_type": "code",
   "execution_count": 34,
   "id": "4acbdd77",
   "metadata": {},
   "outputs": [
    {
     "name": "stdout",
     "output_type": "stream",
     "text": [
      "恭喜游戏玩家获得点数 * 5 ！\n",
      "\n"
     ]
    }
   ],
   "source": [
    "\n",
    "alien_color = ['green','red','yellow']\n",
    "if 'green' in alien_color:\n",
    "\tprint('恭喜游戏玩家获得点数 * 5 ！\\n')\n"
   ]
  },
  {
   "cell_type": "code",
   "execution_count": 35,
   "id": "baf3188d",
   "metadata": {},
   "outputs": [
    {
     "name": "stdout",
     "output_type": "stream",
     "text": [
      "————————版本1————————————\n",
      "\n",
      "恭喜游戏玩家获得点数 * 5 ！\n",
      "————————版本2————————————\n",
      "\n",
      "恭喜游戏玩家获得点数 * 10 ！\n"
     ]
    }
   ],
   "source": [
    "print('————————版本1————————————\\n')\n",
    "alien_color = ['green','red','yellow']\n",
    "if 'green' in alien_color:\n",
    "\tprint('恭喜游戏玩家获得点数 * 5 ！')\n",
    "else:\n",
    "\tprint('恭喜游戏玩家获得点数 * 10 ！')\n",
    "print('————————版本2————————————\\n')\n",
    "alien_color = ['red','yellow']\n",
    "if 'green' in alien_color:\n",
    "\tprint('恭喜游戏玩家获得点数 * 5 ！')\n",
    "else:\n",
    "\tprint('恭喜游戏玩家获得点数 * 10 ！')\n"
   ]
  },
  {
   "cell_type": "code",
   "execution_count": 36,
   "id": "65c01f1e",
   "metadata": {},
   "outputs": [
    {
     "name": "stdout",
     "output_type": "stream",
     "text": [
      "你是婴儿！\n"
     ]
    }
   ],
   "source": [
    "age = 1  \n",
    "if age < 2:  \n",
    "    print('你是婴儿！')  \n",
    "elif 2 <= age < 4:  \n",
    "    print('你正在蹒跚学步！')  \n",
    "elif 4 <= age < 13:  \n",
    "    print('你是儿童！')  \n",
    "elif 13 <= age < 20:  \n",
    "    print('你是青少年！')  \n",
    "elif 20 <= age < 65:  \n",
    "    print('你是成年人！')  \n",
    "elif age >= 65:  \n",
    "    print('你是老年人！')\n"
   ]
  },
  {
   "cell_type": "code",
   "execution_count": 37,
   "id": "10191f47",
   "metadata": {},
   "outputs": [
    {
     "name": "stdout",
     "output_type": "stream",
     "text": [
      "You really like：  apple!\n"
     ]
    }
   ],
   "source": [
    "msg = 'You really like：  '\n",
    "favorite_fruits = ['apple','banana','orange']\n",
    "if 'apple' in favorite_fruits:\n",
    "\tprint(msg +'apple!')\n",
    "elif 'banana' in favorite_fruits:\n",
    "\tprint(msg +'banana!')\n",
    "elif 'orange' in favorite_fruits:\n",
    "\tprint(msg +'orange!')\n",
    "elif 'mango' in favorite_fruits:\n",
    "\tprint(msg +'mango!')\n",
    "else:\n",
    "\tprint('多喝热水')\n"
   ]
  },
  {
   "cell_type": "raw",
   "id": "a860ef5a",
   "metadata": {},
   "source": [
    "# 5.4使用if语句处理列表"
   ]
  },
  {
   "cell_type": "code",
   "execution_count": 38,
   "id": "1d1388fd",
   "metadata": {},
   "outputs": [
    {
     "name": "stdout",
     "output_type": "stream",
     "text": [
      "addingmushromes\n",
      "addinggreen peppers\n",
      "addingextra cheese\n",
      "\n",
      "finished\n"
     ]
    }
   ],
   "source": [
    "requested_toppings = ['mushromes','green peppers','extra cheese']\n",
    "\n",
    "for requested_topping in requested_toppings:\n",
    "    print(\"adding\"+requested_topping)\n",
    "print(\"\\nfinished\")"
   ]
  },
  {
   "cell_type": "code",
   "execution_count": 39,
   "id": "76971efe",
   "metadata": {},
   "outputs": [
    {
     "name": "stdout",
     "output_type": "stream",
     "text": [
      "addingmushromes\n",
      "sorry\n",
      "addingextra cheese\n",
      "\n",
      "finished\n"
     ]
    }
   ],
   "source": [
    " requested_toppings = ['mushromes','green peppers','extra cheese']\n",
    "\n",
    "for requested_topping in requested_toppings:\n",
    "    if requested_topping == 'green peppers':\n",
    "        print(\"sorry\")\n",
    "    else:\n",
    "        print(\"adding\"+requested_topping)\n",
    "print(\"\\nfinished\")"
   ]
  },
  {
   "cell_type": "code",
   "execution_count": 41,
   "id": "0fe742c8",
   "metadata": {},
   "outputs": [
    {
     "name": "stdout",
     "output_type": "stream",
     "text": [
      "are you sure?\n"
     ]
    }
   ],
   "source": [
    "requested_toppings = []\n",
    "\n",
    "if requested_toppings:\n",
    "    for requested_topping in requested_toppings:\n",
    "        print(\"adding\" + requested_topping)\n",
    "    print(\"\\nfinished\")\n",
    "else:\n",
    "    print(\"are you sure?\")"
   ]
  },
  {
   "cell_type": "code",
   "execution_count": 42,
   "id": "5958c35e",
   "metadata": {},
   "outputs": [
    {
     "name": "stdout",
     "output_type": "stream",
     "text": [
      "Hello, amada, thank you for logging in again\n",
      "Hello, bill, thank you for logging in again\n",
      "Hello, caven, thank you for logging in again\n",
      "Hello, davi, thank you for logging in again\n",
      "Hello admin, would you like to see a status report?\n"
     ]
    }
   ],
   "source": [
    "user_name = ['amada','bill','caven','davi','admin']\n",
    "for un in user_name:\n",
    "\tif un == 'admin':\n",
    "\t\tprint('Hello admin, would you like to see a status report?')\n",
    "\telse:\n",
    "\t\tprint('Hello, ' + un + ', thank you for logging in again')"
   ]
  },
  {
   "cell_type": "code",
   "execution_count": 43,
   "id": "9a7cb0d3",
   "metadata": {},
   "outputs": [
    {
     "name": "stdout",
     "output_type": "stream",
     "text": [
      "We need to find some users!\n"
     ]
    }
   ],
   "source": [
    "\n",
    "user_name = []\n",
    "if len(user_name) == 0:\n",
    "\tprint('We need to find some users!')\n",
    "for un in user_name:\n",
    "\tif un == 'admin':\n",
    "\t\tprint('Hello admin, would you like to see a status report?')\n",
    "\telse:\n",
    "\t\tprint('Hello, ' + un + ', thank you for logging in again')"
   ]
  },
  {
   "cell_type": "code",
   "execution_count": 44,
   "id": "f399e972",
   "metadata": {},
   "outputs": [
    {
     "name": "stdout",
     "output_type": "stream",
     "text": [
      "该用户名已被注册！\n",
      "该用户名已被注册！\n",
      "可以注册！恭喜你！！！\n",
      "该用户名已被注册！\n",
      "可以注册！恭喜你！！！\n"
     ]
    }
   ],
   "source": [
    "current_users = ['Amada','bill','caven','john','admin']\n",
    "new_users = ['admiN','bill','jack','JOHN','frank']\n",
    " \n",
    "for value in new_users:\n",
    "\tvalue = value.lower()\n",
    "\tif value in current_users:\n",
    "\t\tprint('该用户名已被注册！')\n",
    "\telse:\n",
    "\t\tprint('可以注册！恭喜你！！！')"
   ]
  },
  {
   "cell_type": "code",
   "execution_count": null,
   "id": "f44d89b5",
   "metadata": {},
   "outputs": [],
   "source": []
  },
  {
   "cell_type": "code",
   "execution_count": 45,
   "id": "1b46a671",
   "metadata": {},
   "outputs": [
    {
     "name": "stdout",
     "output_type": "stream",
     "text": [
      "1st\n",
      "2nd\n",
      "3rd\n",
      "4th\n",
      "5th\n",
      "6th\n",
      "7th\n",
      "8th\n",
      "9th\n"
     ]
    }
   ],
   "source": [
    "lists = list(range(1,10))\n",
    "for list in lists:\n",
    "\tif list == 1:\n",
    "\t\tprint('1st')\n",
    "\telif list == 2:\n",
    "\t\tprint('2nd')\n",
    "\telif list == 3:\n",
    "\t\tprint('3rd')\n",
    "\telse:\n",
    "\t\tprint(str(list) + 'th')"
   ]
  },
  {
   "cell_type": "code",
   "execution_count": null,
   "id": "767c2371",
   "metadata": {},
   "outputs": [],
   "source": []
  }
 ],
 "metadata": {
  "kernelspec": {
   "display_name": "Python 3 (ipykernel)",
   "language": "python",
   "name": "python3"
  },
  "language_info": {
   "codemirror_mode": {
    "name": "ipython",
    "version": 3
   },
   "file_extension": ".py",
   "mimetype": "text/x-python",
   "name": "python",
   "nbconvert_exporter": "python",
   "pygments_lexer": "ipython3",
   "version": "3.9.12"
  }
 },
 "nbformat": 4,
 "nbformat_minor": 5
}
