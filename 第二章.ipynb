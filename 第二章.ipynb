{
 "cells": [
  {
   "cell_type": "markdown",
   "id": "1e4b6ac0",
   "metadata": {},
   "source": [
    "# 使用制表符\\t和换行符\\n添加空白"
   ]
  },
  {
   "cell_type": "code",
   "execution_count": 1,
   "id": "f0862a1e",
   "metadata": {
    "scrolled": true
   },
   "outputs": [
    {
     "name": "stdout",
     "output_type": "stream",
     "text": [
      "python\n",
      "\tc\n",
      "\tc\n",
      "\tjavascript\n"
     ]
    }
   ],
   "source": [
    "print(\"python\\n\\tc\\n\\tc\\n\\tjavascript\")"
   ]
  },
  {
   "cell_type": "markdown",
   "id": "5d32824e",
   "metadata": {},
   "source": [
    "# rstrip（），删除空白，python可以找出来字符串开头和结尾多余的空白。要确认末尾没有空白，可以用rstrip（）"
   ]
  },
  {
   "cell_type": "code",
   "execution_count": 2,
   "id": "001bd07d",
   "metadata": {},
   "outputs": [
    {
     "data": {
      "text/plain": [
       "'python'"
      ]
     },
     "execution_count": 2,
     "metadata": {},
     "output_type": "execute_result"
    }
   ],
   "source": [
    "favorite_language = 'python'\n",
    "favorite_language"
   ]
  },
  {
   "cell_type": "code",
   "execution_count": 3,
   "id": "fb04534a",
   "metadata": {},
   "outputs": [
    {
     "data": {
      "text/plain": [
       "'python'"
      ]
     },
     "execution_count": 3,
     "metadata": {},
     "output_type": "execute_result"
    }
   ],
   "source": [
    "favorite_language = 'python'\n",
    "favorite_language\n",
    "favorite_language.rstrip()"
   ]
  },
  {
   "cell_type": "code",
   "execution_count": 4,
   "id": "8b9bcf00",
   "metadata": {},
   "outputs": [
    {
     "data": {
      "text/plain": [
       "'python'"
      ]
     },
     "execution_count": 4,
     "metadata": {},
     "output_type": "execute_result"
    }
   ],
   "source": [
    "favorite_language = 'python '\n",
    "favorite_language\n",
    "favorite_language.rstrip()"
   ]
  },
  {
   "cell_type": "code",
   "execution_count": 5,
   "id": "0ebc1b00",
   "metadata": {},
   "outputs": [
    {
     "data": {
      "text/plain": [
       "'python '"
      ]
     },
     "execution_count": 5,
     "metadata": {},
     "output_type": "execute_result"
    }
   ],
   "source": [
    "favorite_language"
   ]
  },
  {
   "cell_type": "markdown",
   "id": "974b979e",
   "metadata": {},
   "source": [
    "# 在favorite_language种存储的字符串是有多余空白，用rstrip可以暂时性消除。\n",
    "如果想永久消除，必须将操作的结果返回变量中"
   ]
  },
  {
   "cell_type": "code",
   "execution_count": 6,
   "id": "c226828e",
   "metadata": {},
   "outputs": [
    {
     "data": {
      "text/plain": [
       "'python'"
      ]
     },
     "execution_count": 6,
     "metadata": {},
     "output_type": "execute_result"
    }
   ],
   "source": [
    "favorite_language = 'python '\n",
    "favorite_language=favorite_language.rstrip()\n",
    "favorite_language"
   ]
  },
  {
   "cell_type": "markdown",
   "id": "3ef22d4d",
   "metadata": {},
   "source": [
    "# 同样，可以使用lsrip和strip来消除左边和两端的空白"
   ]
  },
  {
   "cell_type": "code",
   "execution_count": 9,
   "id": "111cfdef",
   "metadata": {},
   "outputs": [
    {
     "data": {
      "text/plain": [
       "'python'"
      ]
     },
     "execution_count": 9,
     "metadata": {},
     "output_type": "execute_result"
    }
   ],
   "source": [
    "favorite_language = ' python '\n",
    "favorite_language.rstrip()\n",
    "favorite_language.lstrip()\n",
    "favorite_language.strip()"
   ]
  },
  {
   "cell_type": "markdown",
   "id": "b4407f93",
   "metadata": {},
   "source": [
    "# 这些叫剥除函数"
   ]
  },
  {
   "cell_type": "markdown",
   "id": "9a4c32a6",
   "metadata": {},
   "source": [
    "# 使用字符串避免语法错误：单引号括起来的字符串不能有撇号；下面因为撇号在两个”“中间，所以解释器正常理解字符串"
   ]
  },
  {
   "cell_type": "code",
   "execution_count": 1,
   "id": "186626ef",
   "metadata": {},
   "outputs": [
    {
     "name": "stdout",
     "output_type": "stream",
     "text": [
      "One of Python's strengths is its diverse community.\n"
     ]
    }
   ],
   "source": [
    "message = \"One of Python's strengths is its diverse community.\"\n",
    "print(message)"
   ]
  },
  {
   "cell_type": "code",
   "execution_count": 2,
   "id": "783b3ec5",
   "metadata": {},
   "outputs": [
    {
     "ename": "SyntaxError",
     "evalue": "invalid syntax (1265700866.py, line 1)",
     "output_type": "error",
     "traceback": [
      "\u001b[1;36m  Input \u001b[1;32mIn [2]\u001b[1;36m\u001b[0m\n\u001b[1;33m    message = 'One of Python's strengths is its diverse community.'\u001b[0m\n\u001b[1;37m                             ^\u001b[0m\n\u001b[1;31mSyntaxError\u001b[0m\u001b[1;31m:\u001b[0m invalid syntax\n"
     ]
    }
   ],
   "source": [
    "message = 'One of Python's strengths is its diverse community.'\n",
    "print(message)"
   ]
  },
  {
   "cell_type": "markdown",
   "id": "c6043169",
   "metadata": {},
   "source": [
    "# python2的print语句  形如print”“"
   ]
  },
  {
   "cell_type": "code",
   "execution_count": 3,
   "id": "b63d57c0",
   "metadata": {},
   "outputs": [
    {
     "ename": "SyntaxError",
     "evalue": "invalid syntax (4228807208.py, line 1)",
     "output_type": "error",
     "traceback": [
      "\u001b[1;36m  Input \u001b[1;32mIn [3]\u001b[1;36m\u001b[0m\n\u001b[1;33m    print\"Hello World\"\u001b[0m\n\u001b[1;37m         ^\u001b[0m\n\u001b[1;31mSyntaxError\u001b[0m\u001b[1;31m:\u001b[0m invalid syntax\n"
     ]
    }
   ],
   "source": [
    "print\"Hello World\""
   ]
  },
  {
   "cell_type": "markdown",
   "id": "4836dd94",
   "metadata": {},
   "source": [
    "# 动手试一试"
   ]
  },
  {
   "cell_type": "code",
   "execution_count": 7,
   "id": "d7b96344",
   "metadata": {},
   "outputs": [
    {
     "name": "stdout",
     "output_type": "stream",
     "text": [
      "Hello Eric,would you like to learn some Python today\n"
     ]
    }
   ],
   "source": [
    "user_name = 'Eric'\n",
    "print(\"Hello \" + user_name + \",would you like to learn some Python today\")"
   ]
  },
  {
   "cell_type": "code",
   "execution_count": 8,
   "id": "d59da971",
   "metadata": {},
   "outputs": [
    {
     "name": "stdout",
     "output_type": "stream",
     "text": [
      "Eric\n",
      "ERIC\n",
      "eric\n"
     ]
    }
   ],
   "source": [
    "user_name = \"Eric\"\n",
    "print(user_name.title())\n",
    "print(user_name.upper())\n",
    "print(user_name.lower())"
   ]
  },
  {
   "cell_type": "code",
   "execution_count": null,
   "id": "d5ff6ea1",
   "metadata": {},
   "outputs": [],
   "source": [
    "Albert Einstein once said, “A person who never made a mistake never tried anything new.”\n",
    "print('Albert Einsteinonce said,\"A person who never made a mistake never tried anything new.\"')"
   ]
  },
  {
   "cell_type": "code",
   "execution_count": 11,
   "id": "c43f7a7d",
   "metadata": {},
   "outputs": [
    {
     "name": "stdout",
     "output_type": "stream",
     "text": [
      "Albert Einsteinonce said,\"A person who never made a mistake never tried anything new.\"\n"
     ]
    }
   ],
   "source": [
    "famous_person = 'Albert Einstein'\n",
    "message = 'A person who never made a mistake never tried anything new.'\n",
    "print(famous_person + 'once said,\"' + message + '\"')"
   ]
  },
  {
   "cell_type": "code",
   "execution_count": 12,
   "id": "6c0f1ce4",
   "metadata": {},
   "outputs": [
    {
     "name": "stdout",
     "output_type": "stream",
     "text": [
      "\tEric \n",
      "\n",
      "\n",
      "\t Eric\n",
      "\n",
      "\n",
      "\tEric\n",
      "\n",
      "\n"
     ]
    }
   ],
   "source": [
    "user_name = \" Eric \"\n",
    "print(\"\\t\" + user_name.lstrip() + \"\\n\\n\")\n",
    "print(\"\\t\" + user_name.rstrip() + \"\\n\\n\")\n",
    "print(\"\\t\" + user_name.strip() + \"\\n\\n\")"
   ]
  },
  {
   "cell_type": "markdown",
   "id": "9b420024",
   "metadata": {},
   "source": [
    "# 2.4数字"
   ]
  },
  {
   "cell_type": "code",
   "execution_count": 17,
   "id": "56e14908",
   "metadata": {},
   "outputs": [
    {
     "data": {
      "text/plain": [
       "5"
      ]
     },
     "execution_count": 17,
     "metadata": {},
     "output_type": "execute_result"
    }
   ],
   "source": [
    "2+3\n"
   ]
  },
  {
   "cell_type": "code",
   "execution_count": 18,
   "id": "647a2981",
   "metadata": {},
   "outputs": [
    {
     "data": {
      "text/plain": [
       "1"
      ]
     },
     "execution_count": 18,
     "metadata": {},
     "output_type": "execute_result"
    }
   ],
   "source": [
    "3-2"
   ]
  },
  {
   "cell_type": "code",
   "execution_count": 19,
   "id": "34d481cb",
   "metadata": {},
   "outputs": [
    {
     "data": {
      "text/plain": [
       "6"
      ]
     },
     "execution_count": 19,
     "metadata": {},
     "output_type": "execute_result"
    }
   ],
   "source": [
    "2*3"
   ]
  },
  {
   "cell_type": "code",
   "execution_count": 20,
   "id": "299bbd5d",
   "metadata": {},
   "outputs": [
    {
     "data": {
      "text/plain": [
       "1.5"
      ]
     },
     "execution_count": 20,
     "metadata": {},
     "output_type": "execute_result"
    }
   ],
   "source": [
    "3/2"
   ]
  },
  {
   "cell_type": "markdown",
   "id": "5aabb790",
   "metadata": {},
   "source": [
    "# **表示乘方运算"
   ]
  },
  {
   "cell_type": "code",
   "execution_count": 22,
   "id": "3e37ebcb",
   "metadata": {},
   "outputs": [
    {
     "data": {
      "text/plain": [
       "9"
      ]
     },
     "execution_count": 22,
     "metadata": {},
     "output_type": "execute_result"
    }
   ],
   "source": [
    "3**2"
   ]
  },
  {
   "cell_type": "code",
   "execution_count": 23,
   "id": "aaf1cc59",
   "metadata": {},
   "outputs": [
    {
     "data": {
      "text/plain": [
       "27"
      ]
     },
     "execution_count": 23,
     "metadata": {},
     "output_type": "execute_result"
    }
   ],
   "source": [
    "3**3"
   ]
  },
  {
   "cell_type": "code",
   "execution_count": 24,
   "id": "bf99fb3b",
   "metadata": {},
   "outputs": [
    {
     "data": {
      "text/plain": [
       "1000000"
      ]
     },
     "execution_count": 24,
     "metadata": {},
     "output_type": "execute_result"
    }
   ],
   "source": [
    "10**6"
   ]
  },
  {
   "cell_type": "markdown",
   "id": "e43f4efe",
   "metadata": {},
   "source": [
    "# 运算次序 "
   ]
  },
  {
   "cell_type": "code",
   "execution_count": 25,
   "id": "ebf01504",
   "metadata": {},
   "outputs": [
    {
     "data": {
      "text/plain": [
       "14"
      ]
     },
     "execution_count": 25,
     "metadata": {},
     "output_type": "execute_result"
    }
   ],
   "source": [
    "2+3*4"
   ]
  },
  {
   "cell_type": "code",
   "execution_count": 27,
   "id": "850e68e0",
   "metadata": {},
   "outputs": [
    {
     "data": {
      "text/plain": [
       "20"
      ]
     },
     "execution_count": 27,
     "metadata": {},
     "output_type": "execute_result"
    }
   ],
   "source": [
    "(2+3)*4"
   ]
  },
  {
   "cell_type": "markdown",
   "id": "915e84be",
   "metadata": {},
   "source": [
    "# 2.4.2浮点数"
   ]
  },
  {
   "cell_type": "raw",
   "id": "f5dfc893",
   "metadata": {},
   "source": [
    "定义：带小数点的数字"
   ]
  },
  {
   "cell_type": "code",
   "execution_count": 28,
   "id": "019ac71f",
   "metadata": {},
   "outputs": [
    {
     "data": {
      "text/plain": [
       "0.2"
      ]
     },
     "execution_count": 28,
     "metadata": {},
     "output_type": "execute_result"
    }
   ],
   "source": [
    "0.1+0.1"
   ]
  },
  {
   "cell_type": "code",
   "execution_count": 29,
   "id": "f22e2581",
   "metadata": {},
   "outputs": [
    {
     "data": {
      "text/plain": [
       "0.4"
      ]
     },
     "execution_count": 29,
     "metadata": {},
     "output_type": "execute_result"
    }
   ],
   "source": [
    "0.2+0.2\n"
   ]
  },
  {
   "cell_type": "code",
   "execution_count": 30,
   "id": "d4063771",
   "metadata": {},
   "outputs": [
    {
     "data": {
      "text/plain": [
       "0.2"
      ]
     },
     "execution_count": 30,
     "metadata": {},
     "output_type": "execute_result"
    }
   ],
   "source": [
    "2*0.1"
   ]
  },
  {
   "cell_type": "code",
   "execution_count": 31,
   "id": "54464098",
   "metadata": {},
   "outputs": [
    {
     "data": {
      "text/plain": [
       "0.4"
      ]
     },
     "execution_count": 31,
     "metadata": {},
     "output_type": "execute_result"
    }
   ],
   "source": [
    "2*0.2"
   ]
  },
  {
   "cell_type": "raw",
   "id": "348fb465",
   "metadata": {},
   "source": [
    "注意：结果包含的小数结果可能是不确定的"
   ]
  },
  {
   "cell_type": "code",
   "execution_count": 32,
   "id": "a88583af",
   "metadata": {},
   "outputs": [
    {
     "data": {
      "text/plain": [
       "0.30000000000000004"
      ]
     },
     "execution_count": 32,
     "metadata": {},
     "output_type": "execute_result"
    }
   ],
   "source": [
    "0.2+0.1"
   ]
  },
  {
   "cell_type": "code",
   "execution_count": 33,
   "id": "5802c4c9",
   "metadata": {},
   "outputs": [
    {
     "data": {
      "text/plain": [
       "0.30000000000000004"
      ]
     },
     "execution_count": 33,
     "metadata": {},
     "output_type": "execute_result"
    }
   ],
   "source": [
    "3*0.1"
   ]
  },
  {
   "cell_type": "raw",
   "id": "2e468168",
   "metadata": {},
   "source": [
    "这些问题每一种语言都有，暂时忽略吧，在第二部分会学习"
   ]
  },
  {
   "cell_type": "markdown",
   "id": "4514870f",
   "metadata": {},
   "source": [
    "# 使用函数str()避免类型错误"
   ]
  },
  {
   "cell_type": "code",
   "execution_count": 34,
   "id": "26bd41b8",
   "metadata": {},
   "outputs": [
    {
     "ename": "TypeError",
     "evalue": "can only concatenate str (not \"int\") to str",
     "output_type": "error",
     "traceback": [
      "\u001b[1;31m---------------------------------------------------------------------------\u001b[0m",
      "\u001b[1;31mTypeError\u001b[0m                                 Traceback (most recent call last)",
      "Input \u001b[1;32mIn [34]\u001b[0m, in \u001b[0;36m<cell line: 2>\u001b[1;34m()\u001b[0m\n\u001b[0;32m      1\u001b[0m age \u001b[38;5;241m=\u001b[39m \u001b[38;5;241m23\u001b[39m\n\u001b[1;32m----> 2\u001b[0m massage \u001b[38;5;241m=\u001b[39m \u001b[38;5;124;43m\"\u001b[39;49m\u001b[38;5;124;43mhappy\u001b[39;49m\u001b[38;5;124;43m\"\u001b[39;49m\u001b[43m \u001b[49m\u001b[38;5;241;43m+\u001b[39;49m\u001b[43m \u001b[49m\u001b[43mage\u001b[49m \u001b[38;5;241m+\u001b[39m \u001b[38;5;124m\"\u001b[39m\u001b[38;5;124mrd birthday!\u001b[39m\u001b[38;5;124m\"\u001b[39m\n\u001b[0;32m      3\u001b[0m \u001b[38;5;28mprint\u001b[39m(massage)\n",
      "\u001b[1;31mTypeError\u001b[0m: can only concatenate str (not \"int\") to str"
     ]
    }
   ],
   "source": [
    "age = 23\n",
    "massage = \"happy\" + age + \"rd birthday!\"\n",
    "print(massage)"
   ]
  },
  {
   "cell_type": "code",
   "execution_count": 35,
   "id": "e7f5cb92",
   "metadata": {},
   "outputs": [
    {
     "name": "stdout",
     "output_type": "stream",
     "text": [
      "happy23rd birthday!\n"
     ]
    }
   ],
   "source": [
    "age = 23\n",
    "massage = \"happy\" + str(age) + \"rd birthday!\"\n",
    "print(massage)"
   ]
  },
  {
   "cell_type": "code",
   "execution_count": 36,
   "id": "0dd29c37",
   "metadata": {},
   "outputs": [
    {
     "name": "stdout",
     "output_type": "stream",
     "text": [
      "8\n",
      "8\n",
      "8\n",
      "8\n"
     ]
    }
   ],
   "source": [
    "\n",
    "print(5 + 3)\n",
    "print(10 - 2)\n",
    "print(2 * 4)\n",
    "print(int(16 / 2))\n"
   ]
  },
  {
   "cell_type": "code",
   "execution_count": 37,
   "id": "925d1f9d",
   "metadata": {},
   "outputs": [
    {
     "name": "stdout",
     "output_type": "stream",
     "text": [
      "8.0\n"
     ]
    }
   ],
   "source": [
    "print(16/2)"
   ]
  },
  {
   "cell_type": "code",
   "execution_count": 38,
   "id": "f3707af3",
   "metadata": {},
   "outputs": [
    {
     "name": "stdout",
     "output_type": "stream",
     "text": [
      "我最喜欢的数字是：0!\n"
     ]
    }
   ],
   "source": [
    "\n",
    "fav_nub = 0\n",
    "print('我最喜欢的数字是：' + str(fav_nub) +'!')"
   ]
  },
  {
   "cell_type": "code",
   "execution_count": 39,
   "id": "dbfe0a9b",
   "metadata": {},
   "outputs": [
    {
     "ename": "TypeError",
     "evalue": "can only concatenate str (not \"int\") to str",
     "output_type": "error",
     "traceback": [
      "\u001b[1;31m---------------------------------------------------------------------------\u001b[0m",
      "\u001b[1;31mTypeError\u001b[0m                                 Traceback (most recent call last)",
      "Input \u001b[1;32mIn [39]\u001b[0m, in \u001b[0;36m<cell line: 2>\u001b[1;34m()\u001b[0m\n\u001b[0;32m      1\u001b[0m fav_nub \u001b[38;5;241m=\u001b[39m \u001b[38;5;241m0\u001b[39m\n\u001b[1;32m----> 2\u001b[0m \u001b[38;5;28mprint\u001b[39m(\u001b[38;5;124;43m'\u001b[39;49m\u001b[38;5;124;43m我最喜欢的数字是：\u001b[39;49m\u001b[38;5;124;43m'\u001b[39;49m\u001b[43m \u001b[49m\u001b[38;5;241;43m+\u001b[39;49m\u001b[43m \u001b[49m\u001b[43mfav_nub\u001b[49m \u001b[38;5;241m+\u001b[39m\u001b[38;5;124m'\u001b[39m\u001b[38;5;124m!\u001b[39m\u001b[38;5;124m'\u001b[39m)\n",
      "\u001b[1;31mTypeError\u001b[0m: can only concatenate str (not \"int\") to str"
     ]
    }
   ],
   "source": [
    "fav_nub = 0\n",
    "print('我最喜欢的数字是：' + fav_nub +'!')"
   ]
  },
  {
   "cell_type": "markdown",
   "id": "313fbb70",
   "metadata": {},
   "source": [
    "# 2.5注释"
   ]
  },
  {
   "cell_type": "raw",
   "id": "763e09cc",
   "metadata": {},
   "source": [
    "注释用#，#后面的会被解释器忽略"
   ]
  },
  {
   "cell_type": "code",
   "execution_count": 40,
   "id": "3ea4a19f",
   "metadata": {},
   "outputs": [
    {
     "name": "stdout",
     "output_type": "stream",
     "text": [
      "hello python people\n"
     ]
    }
   ],
   "source": [
    "#向大家问好\n",
    "print(\"hello python people\")"
   ]
  },
  {
   "cell_type": "code",
   "execution_count": 42,
   "id": "777a79e2",
   "metadata": {},
   "outputs": [
    {
     "name": "stdout",
     "output_type": "stream",
     "text": [
      "hello_world!\n"
     ]
    }
   ],
   "source": [
    "\n",
    "var = 'hello_world!'\n",
    "#这句是将hello_world!字符串赋值给变量var\n",
    "print(var)\n",
    "#将var变量打印出来\n"
   ]
  },
  {
   "cell_type": "code",
   "execution_count": null,
   "id": "ead7611b",
   "metadata": {},
   "outputs": [],
   "source": [
    "\n",
    "①win+r 打开运行窗口\n",
    "②输入cmd打开命令提示符\n",
    "③输入python进入cpython\n",
    "④输入import this\n",
    "Beautiful is better than ugly.\n",
    "Explicit is better than implicit.\n",
    "Simple is better than complex.\n",
    "Complex is better than complicated.\n",
    "Flat is better than nested.\n",
    "Sparse is better than dense.\n",
    "Readability counts.\n",
    "Special cases aren't special enough to break the rules.\n",
    "Although practicality beats purity.\n",
    "Errors should never pass silently.\n",
    "Unless explicitly silenced.\n",
    "In the face of ambiguity, refuse the temptation to guess.\n",
    "There should be one-- and preferably only one --obvious way to do it.\n",
    "Although that way may not be obvious at first unless you're Dutch.\n",
    "Now is better than never.\n",
    "Although never is often better than *right* now.\n",
    "If the implementation is hard to explain, it's a bad idea.\n",
    "If the implementation is easy to explain, it may be a good idea.\n",
    "Namespaces are one honking great idea -- let's do more of those!"
   ]
  }
 ],
 "metadata": {
  "kernelspec": {
   "display_name": "Python 3 (ipykernel)",
   "language": "python",
   "name": "python3"
  },
  "language_info": {
   "codemirror_mode": {
    "name": "ipython",
    "version": 3
   },
   "file_extension": ".py",
   "mimetype": "text/x-python",
   "name": "python",
   "nbconvert_exporter": "python",
   "pygments_lexer": "ipython3",
   "version": "3.9.12"
  }
 },
 "nbformat": 4,
 "nbformat_minor": 5
}
