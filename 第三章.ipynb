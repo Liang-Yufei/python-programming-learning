{
 "cells": [
  {
   "cell_type": "raw",
   "id": "2bd2e0e3",
   "metadata": {},
   "source": [
    "第三章、列表简介  []"
   ]
  },
  {
   "cell_type": "code",
   "execution_count": 2,
   "id": "6c7b98be",
   "metadata": {},
   "outputs": [
    {
     "name": "stdout",
     "output_type": "stream",
     "text": [
      "['trek', 'cannondale', 'specialized']\n"
     ]
    }
   ],
   "source": [
    "bicycles = ['trek','cannondale','specialized']\n",
    "print(bicycles)"
   ]
  },
  {
   "cell_type": "code",
   "execution_count": 3,
   "id": "2bc077c6",
   "metadata": {},
   "outputs": [
    {
     "name": "stdout",
     "output_type": "stream",
     "text": [
      "trek\n"
     ]
    }
   ],
   "source": [
    "bicycles = ['trek','cannondale','specialized']\n",
    "print(bicycles[0])"
   ]
  },
  {
   "cell_type": "code",
   "execution_count": 4,
   "id": "bc805740",
   "metadata": {},
   "outputs": [
    {
     "name": "stdout",
     "output_type": "stream",
     "text": [
      "Trek\n"
     ]
    }
   ],
   "source": [
    "bicycles = ['trek','cannondale','specialized']\n",
    "print(bicycles[0].title())"
   ]
  },
  {
   "cell_type": "code",
   "execution_count": 5,
   "id": "9f6befc0",
   "metadata": {},
   "outputs": [
    {
     "name": "stdout",
     "output_type": "stream",
     "text": [
      "cannondale\n",
      "specialized\n"
     ]
    }
   ],
   "source": [
    "bicycles = ['trek','cannondale','redline','specialized']\n",
    "print(bicycles[1])\n",
    "print(bicycles[3])"
   ]
  },
  {
   "cell_type": "code",
   "execution_count": 6,
   "id": "44b0656e",
   "metadata": {},
   "outputs": [
    {
     "name": "stdout",
     "output_type": "stream",
     "text": [
      "specialized\n"
     ]
    }
   ],
   "source": [
    "bicycles = ['trek','cannondale','redline','specialized']\n",
    "print(bicycles[-1])\n"
   ]
  },
  {
   "cell_type": "code",
   "execution_count": 7,
   "id": "a0f30dcb",
   "metadata": {},
   "outputs": [
    {
     "name": "stdout",
     "output_type": "stream",
     "text": [
      "trek\n"
     ]
    }
   ],
   "source": [
    "bicycles = ['trek','cannondale','redline','specialized']\n",
    "print(bicycles[-4])"
   ]
  },
  {
   "cell_type": "raw",
   "id": "550c15b1",
   "metadata": {},
   "source": [
    "3.1.3使用列表中的各个值"
   ]
  },
  {
   "cell_type": "code",
   "execution_count": 9,
   "id": "d99e08c3",
   "metadata": {},
   "outputs": [
    {
     "name": "stdout",
     "output_type": "stream",
     "text": [
      "my first bicycle was a Trek.\n"
     ]
    }
   ],
   "source": [
    "bicycles = ['trek','cannondale','redline','specialized']\n",
    "massage = \"my first bicycle was a \" + bicycles[0].title() + \".\"\n",
    "print(massage)"
   ]
  },
  {
   "cell_type": "code",
   "execution_count": 10,
   "id": "295e7aef",
   "metadata": {},
   "outputs": [
    {
     "name": "stdout",
     "output_type": "stream",
     "text": [
      "张三\n",
      "李四\n",
      "王五\n"
     ]
    }
   ],
   "source": [
    "names = ['张三','李四','王五']\n",
    "print(names[0])\n",
    "print(names[1])\n",
    "print(names[2])\n"
   ]
  },
  {
   "cell_type": "code",
   "execution_count": 11,
   "id": "791ca1fd",
   "metadata": {},
   "outputs": [
    {
     "name": "stdout",
     "output_type": "stream",
     "text": [
      "张三,你好！\n",
      "李四,你好！\n",
      "王五,你好！\n"
     ]
    }
   ],
   "source": [
    "\n",
    "names = ['张三','李四','王五']\n",
    "print(names[0] + ',你好！')\n",
    "print(names[1] + ',你好！')\n",
    "print(names[2] + ',你好！')\n"
   ]
  },
  {
   "cell_type": "code",
   "execution_count": 12,
   "id": "1dd22b2e",
   "metadata": {},
   "outputs": [
    {
     "name": "stdout",
     "output_type": "stream",
     "text": [
      "我想拥有一辆：小汽车\n",
      "我想拥有一辆：摩托车\n",
      "我想拥有一辆：自行车\n"
     ]
    }
   ],
   "source": [
    "\n",
    "travel_mode = ['小汽车','摩托车','自行车']\n",
    "print('我想拥有一辆：' + travel_mode[0])\n",
    "print('我想拥有一辆：' + travel_mode[1])\n",
    "print('我想拥有一辆：' + travel_mode[2])\n"
   ]
  },
  {
   "cell_type": "raw",
   "id": "e3bf8050",
   "metadata": {},
   "source": [
    "3.2修改、添加和删除元素"
   ]
  },
  {
   "cell_type": "code",
   "execution_count": 13,
   "id": "61bd08a5",
   "metadata": {},
   "outputs": [
    {
     "name": "stdout",
     "output_type": "stream",
     "text": [
      "['honda', 'yamaha', 'suzuki']\n",
      "['ducati', 'yamaha', 'suzuki']\n"
     ]
    }
   ],
   "source": [
    "motocycles = ['honda','yamaha','suzuki']\n",
    "print(motocycles)\n",
    "motocycles[0] = 'ducati'\n",
    "print(motocycles)"
   ]
  },
  {
   "cell_type": "code",
   "execution_count": 14,
   "id": "81861103",
   "metadata": {},
   "outputs": [
    {
     "name": "stdout",
     "output_type": "stream",
     "text": [
      "['honda', 'yamaha', 'suzuki']\n",
      "['honda', 'yamaha', 'suzuki', 'ducati']\n"
     ]
    }
   ],
   "source": [
    "motocycles = ['honda','yamaha','suzuki']\n",
    "print(motocycles)\n",
    "motocycles.append('ducati')\n",
    "print(motocycles)"
   ]
  },
  {
   "cell_type": "code",
   "execution_count": 15,
   "id": "30c210d0",
   "metadata": {},
   "outputs": [
    {
     "name": "stdout",
     "output_type": "stream",
     "text": [
      "['honda', 'yamaha', 'suzuki']\n"
     ]
    }
   ],
   "source": [
    "motocycles = []\n",
    "motocycles.append('honda')\n",
    "motocycles.append('yamaha')\n",
    "motocycles.append('suzuki')\n",
    "\n",
    "print(motocycles)"
   ]
  },
  {
   "cell_type": "code",
   "execution_count": 16,
   "id": "e5c2f835",
   "metadata": {},
   "outputs": [
    {
     "name": "stdout",
     "output_type": "stream",
     "text": [
      "['ducati', 'honda', 'yamaha', 'suzuki']\n"
     ]
    }
   ],
   "source": [
    "motocycles = ['honda','yamaha','suzuki']\n",
    "motocycles.insert(0,'ducati')\n",
    "print(motocycles)"
   ]
  },
  {
   "cell_type": "code",
   "execution_count": 17,
   "id": "57e17aa5",
   "metadata": {},
   "outputs": [
    {
     "name": "stdout",
     "output_type": "stream",
     "text": [
      "['honda', 'yamaha', 'suzuki']\n",
      "['yamaha', 'suzuki']\n"
     ]
    }
   ],
   "source": [
    "motocycles = ['honda','yamaha','suzuki']\n",
    "print(motocycles)\n",
    "del motocycles[0]\n",
    "print(motocycles)"
   ]
  },
  {
   "cell_type": "code",
   "execution_count": 18,
   "id": "c1b747cb",
   "metadata": {},
   "outputs": [
    {
     "name": "stdout",
     "output_type": "stream",
     "text": [
      "['honda', 'yamaha', 'suzuki']\n",
      "['honda', 'suzuki']\n"
     ]
    }
   ],
   "source": [
    "motocycles = ['honda','yamaha','suzuki']\n",
    "print(motocycles)\n",
    "del motocycles[1]\n",
    "print(motocycles)"
   ]
  },
  {
   "cell_type": "raw",
   "id": "fb520d8b",
   "metadata": {},
   "source": [
    "删除的两种方法\n",
    "1.del 语句\n",
    "2.pop（）方法 弹出末尾元素并使用它，相当于一个栈"
   ]
  },
  {
   "cell_type": "code",
   "execution_count": 19,
   "id": "3252393c",
   "metadata": {},
   "outputs": [
    {
     "name": "stdout",
     "output_type": "stream",
     "text": [
      "['honda', 'yamaha', 'suzuki']\n",
      "['honda', 'yamaha']\n",
      "suzuki\n"
     ]
    }
   ],
   "source": [
    "motocycles = ['honda','yamaha','suzuki']\n",
    "print(motocycles)\n",
    "\n",
    "popped_motocycle = motocycles.pop()\n",
    "print(motocycles)\n",
    "print(popped_motocycle)"
   ]
  },
  {
   "cell_type": "code",
   "execution_count": 20,
   "id": "760fcae7",
   "metadata": {},
   "outputs": [
    {
     "name": "stdout",
     "output_type": "stream",
     "text": [
      "the last motocycle i owned was a Suzuki.\n"
     ]
    }
   ],
   "source": [
    "motocycles = ['honda','yamaha','suzuki']\n",
    "last_owned = motocycles.pop()\n",
    "print(\"the last motocycle i owned was a \" + last_owned.title() + \".\")"
   ]
  },
  {
   "cell_type": "code",
   "execution_count": 21,
   "id": "d03a6e0c",
   "metadata": {},
   "outputs": [
    {
     "name": "stdout",
     "output_type": "stream",
     "text": [
      "the first motocycle i owned was a Honda.\n"
     ]
    }
   ],
   "source": [
    "motocycles = ['honda','yamaha','suzuki']\n",
    "first_owned = motocycles.pop(0)\n",
    "print(\"the first motocycle i owned was a \" + first_owned.title() + \".\")"
   ]
  },
  {
   "cell_type": "code",
   "execution_count": 22,
   "id": "9c2bff01",
   "metadata": {},
   "outputs": [
    {
     "name": "stdout",
     "output_type": "stream",
     "text": [
      "['honda', 'yamaha', 'suzuki']\n",
      "['yamaha', 'suzuki']\n"
     ]
    }
   ],
   "source": [
    "motocycles = ['honda','yamaha','suzuki']\n",
    "print(motocycles)\n",
    "motocycles.remove('honda')#按值删除元素\n",
    "print(motocycles)"
   ]
  },
  {
   "cell_type": "code",
   "execution_count": 24,
   "id": "7d2be762",
   "metadata": {},
   "outputs": [
    {
     "name": "stdout",
     "output_type": "stream",
     "text": [
      "['honda', 'yamaha', 'suzuki', 'ducati']\n",
      "['honda', 'yamaha', 'suzuki']\n",
      "\n",
      "A Ducati is too expensive for me.\n"
     ]
    }
   ],
   "source": [
    "motocycles = ['honda','yamaha','suzuki','ducati']\n",
    "print(motocycles)\n",
    "too_expensive = 'ducati'\n",
    "motocycles.remove(too_expensive)\n",
    "print(motocycles)\n",
    "print(\"\\nA \" + too_expensive.title() + \" is too expensive for me.\")"
   ]
  },
  {
   "cell_type": "code",
   "execution_count": 25,
   "id": "a0bde851",
   "metadata": {},
   "outputs": [
    {
     "name": "stdout",
     "output_type": "stream",
     "text": [
      "尊敬的：马云（先生/女士），诚挚的邀请您参加今晚的宴会！\n",
      "尊敬的：马化腾（先生/女士），诚挚的邀请您参加今晚的宴会！\n",
      "尊敬的：李彦宏（先生/女士），诚挚的邀请您参加今晚的宴会！\n"
     ]
    }
   ],
   "source": [
    "inv_list = ['马云','马化腾','李彦宏']\n",
    "print('尊敬的：' + inv_list[0] + '（先生/女士），诚挚的邀请您参加今晚的宴会！')\n",
    "print('尊敬的：' + inv_list[1] + '（先生/女士），诚挚的邀请您参加今晚的宴会！')\n",
    "print('尊敬的：' + inv_list[2] + '（先生/女士），诚挚的邀请您参加今晚的宴会！')"
   ]
  },
  {
   "cell_type": "code",
   "execution_count": 27,
   "id": "89b983c7",
   "metadata": {},
   "outputs": [
    {
     "name": "stdout",
     "output_type": "stream",
     "text": [
      "马云因故无法赴宴！\n",
      "尊敬的：刘强东（先生/女士），诚挚的邀请您参加今晚的宴会！\n",
      "尊敬的：马化腾（先生/女士），诚挚的邀请您参加今晚的宴会！\n",
      "尊敬的：李彦宏（先生/女士），诚挚的邀请您参加今晚的宴会！\n"
     ]
    }
   ],
   "source": [
    "inv_list = ['马云','马化腾','李彦宏']\n",
    "\n",
    "print(inv_list[0] + '因故无法赴宴！')\n",
    "inv_list[0] = '刘强东'\n",
    "print('尊敬的：' + inv_list[0] + '（先生/女士），诚挚的邀请您参加今晚的宴会！')\n",
    "print('尊敬的：' + inv_list[1] + '（先生/女士），诚挚的邀请您参加今晚的宴会！')\n",
    "print('尊敬的：' + inv_list[2] + '（先生/女士），诚挚的邀请您参加今晚的宴会！')"
   ]
  },
  {
   "cell_type": "raw",
   "id": "17d94132",
   "metadata": {},
   "source": [
    "3.3组织列表\n",
    "1.使用方法sort进行永久性排序\n",
    "2.函数sorted（）进行临时排序\n",
    "3.倒着打印列表"
   ]
  },
  {
   "cell_type": "code",
   "execution_count": 32,
   "id": "3d518c1b",
   "metadata": {},
   "outputs": [
    {
     "name": "stdout",
     "output_type": "stream",
     "text": [
      "['audi', 'bmw', 'subaru', 'toyota']\n"
     ]
    }
   ],
   "source": [
    "cars = ['bmw','audi','toyota','subaru']\n",
    "cars.sort()\n",
    "print(cars)"
   ]
  },
  {
   "cell_type": "code",
   "execution_count": 35,
   "id": "7628124e",
   "metadata": {},
   "outputs": [
    {
     "name": "stdout",
     "output_type": "stream",
     "text": [
      "['toyota', 'subaru', 'bmw', 'audi']\n"
     ]
    }
   ],
   "source": [
    "cars = ['bmw','audi','toyota','subaru']\n",
    "cars.sort(reverse = True)\n",
    "print(cars)"
   ]
  },
  {
   "cell_type": "code",
   "execution_count": 36,
   "id": "dc431978",
   "metadata": {},
   "outputs": [
    {
     "name": "stdout",
     "output_type": "stream",
     "text": [
      "['audi', 'bmw', 'subaru', 'toyota']\n",
      "['bmw', 'audi', 'toyota', 'subaru']\n"
     ]
    }
   ],
   "source": [
    "cars = ['bmw','audi','toyota','subaru']\n",
    "print(sorted(cars))\n",
    "print(cars)"
   ]
  },
  {
   "cell_type": "code",
   "execution_count": 37,
   "id": "56df63bd",
   "metadata": {},
   "outputs": [
    {
     "name": "stdout",
     "output_type": "stream",
     "text": [
      "['bmw', 'audi', 'toyota', 'subaru']\n",
      "['subaru', 'toyota', 'audi', 'bmw']\n"
     ]
    }
   ],
   "source": [
    "cars = ['bmw','audi','toyota','subaru']\n",
    "print(cars)\n",
    "cars.reverse()\n",
    "print(cars)"
   ]
  },
  {
   "cell_type": "code",
   "execution_count": 38,
   "id": "48110428",
   "metadata": {},
   "outputs": [
    {
     "name": "stdout",
     "output_type": "stream",
     "text": [
      "['bmw', 'audi', 'toyota', 'subaru']\n",
      "['subaru', 'toyota', 'audi', 'bmw']\n",
      "['bmw', 'audi', 'toyota', 'subaru']\n"
     ]
    }
   ],
   "source": [
    "cars = ['bmw','audi','toyota','subaru']\n",
    "print(cars)\n",
    "cars.reverse()\n",
    "print(cars)\n",
    "cars.reverse()\n",
    "print(cars)"
   ]
  },
  {
   "cell_type": "code",
   "execution_count": 39,
   "id": "adef250a",
   "metadata": {},
   "outputs": [
    {
     "data": {
      "text/plain": [
       "4"
      ]
     },
     "execution_count": 39,
     "metadata": {},
     "output_type": "execute_result"
    }
   ],
   "source": [
    "cars = ['bmw','audi','toyota','subaru']\n",
    "len(cars)"
   ]
  },
  {
   "cell_type": "code",
   "execution_count": 40,
   "id": "fb4cb177",
   "metadata": {},
   "outputs": [
    {
     "name": "stdout",
     "output_type": "stream",
     "text": [
      "['BeiJing', 'NanJing', 'XiAn', 'LuoYang', 'GuangZhou']\n",
      "['BeiJing', 'GuangZhou', 'LuoYang', 'NanJing', 'XiAn']\n",
      "['BeiJing', 'NanJing', 'XiAn', 'LuoYang', 'GuangZhou']\n",
      "['BeiJing', 'GuangZhou', 'LuoYang', 'NanJing', 'XiAn']\n",
      "['GuangZhou', 'LuoYang', 'XiAn', 'NanJing', 'BeiJing']\n",
      "['BeiJing', 'NanJing', 'XiAn', 'LuoYang', 'GuangZhou']\n",
      "['GuangZhou', 'LuoYang', 'XiAn', 'NanJing', 'BeiJing']\n",
      "['BeiJing', 'GuangZhou', 'LuoYang', 'NanJing', 'XiAn']\n"
     ]
    }
   ],
   "source": [
    "\n",
    "traver_place = ['BeiJing','NanJing','XiAn','LuoYang','GuangZhou']\n",
    "print(traver_place)\n",
    "print(sorted(traver_place))\n",
    "print(traver_place)\n",
    "traver_place.reverse()\n",
    "print(sorted(traver_place))\n",
    "print(traver_place)\n",
    "traver_place.reverse()\n",
    "print(traver_place)\n",
    "traver_place.reverse()\n",
    "print(traver_place)\n",
    "traver_place.sort()  \n",
    "print(traver_place)\n",
    "traver_place.sort(reverse=True)  \n"
   ]
  },
  {
   "cell_type": "code",
   "execution_count": 41,
   "id": "cc2a6564",
   "metadata": {},
   "outputs": [
    {
     "name": "stdout",
     "output_type": "stream",
     "text": [
      "共邀请了：3位宾客！\n"
     ]
    }
   ],
   "source": [
    "inv_list = ['马云','马化腾','李彦宏']\n",
    "print('共邀请了：' + str(len(inv_list)) + '位宾客！')"
   ]
  },
  {
   "cell_type": "code",
   "execution_count": null,
   "id": "7ddec278",
   "metadata": {},
   "outputs": [],
   "source": []
  }
 ],
 "metadata": {
  "kernelspec": {
   "display_name": "Python 3 (ipykernel)",
   "language": "python",
   "name": "python3"
  },
  "language_info": {
   "codemirror_mode": {
    "name": "ipython",
    "version": 3
   },
   "file_extension": ".py",
   "mimetype": "text/x-python",
   "name": "python",
   "nbconvert_exporter": "python",
   "pygments_lexer": "ipython3",
   "version": "3.9.12"
  }
 },
 "nbformat": 4,
 "nbformat_minor": 5
}
